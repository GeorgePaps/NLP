{
 "cells": [
  {
   "cell_type": "markdown",
   "metadata": {},
   "source": [
    "## Code Snippets for Natural Language Programming "
   ]
  },
  {
   "cell_type": "markdown",
   "metadata": {},
   "source": [
    "### 0. Contents\n",
    "\n",
    "- 1 One-hot representation with scikit-lear"
   ]
  },
  {
   "cell_type": "markdown",
   "metadata": {},
   "source": [
    "### 1. Creating one-hot representation with scikit-learn"
   ]
  },
  {
   "cell_type": "code",
   "execution_count": 21,
   "metadata": {},
   "outputs": [
    {
     "data": {
      "text/plain": [
       "array(['and', 'document', 'first', 'is', 'one', 'second', 'the', 'third',\n",
       "       'this'], dtype=object)"
      ]
     },
     "execution_count": 21,
     "metadata": {},
     "output_type": "execute_result"
    }
   ],
   "source": [
    "from sklearn.feature_extraction.text import CountVectorizer\n",
    "\n",
    "corpus = [\n",
    "    \"This is the first document.\",\n",
    "    \"This document is the second document.\",\n",
    "    \"And this is the third one.\",\n",
    "    \"Is this the first document?\"\n",
    "]\n",
    "\n",
    "vectorizer = CountVectorizer()\n",
    "X = vectorizer.fit_transform(corpus)\n",
    "vectorizer.get_feature_names_out()\n"
   ]
  },
  {
   "cell_type": "code",
   "execution_count": 23,
   "metadata": {},
   "outputs": [
    {
     "name": "stdout",
     "output_type": "stream",
     "text": [
      "[[0 1 1 1 0 0 1 0 1]\n",
      " [0 2 0 1 0 1 1 0 1]\n",
      " [1 0 0 1 1 0 1 1 1]\n",
      " [0 1 1 1 0 0 1 0 1]]\n"
     ]
    }
   ],
   "source": [
    "print(X.toarray())"
   ]
  },
  {
   "cell_type": "markdown",
   "metadata": {},
   "source": [
    "### 1. Creating Tensors"
   ]
  },
  {
   "cell_type": "code",
   "execution_count": 6,
   "metadata": {},
   "outputs": [],
   "source": [
    "def describe(x):\n",
    "    \"\"\"A function used to give information \"\"\"\n",
    "    print(\"Type: {}\".format(x.type()))\n",
    "    print(\"Shape/size: {}\".format(x.shape))\n",
    "    print(\"Values: \\n {}\".format(x))"
   ]
  },
  {
   "cell_type": "code",
   "execution_count": 10,
   "metadata": {},
   "outputs": [
    {
     "name": "stdout",
     "output_type": "stream",
     "text": [
      "Type: torch.FloatTensor\n",
      "Shape/size: torch.Size([2, 3])\n",
      "Values: \n",
      " tensor([[6.2449e-39, 4.9592e-39, 4.9592e-39],\n",
      "        [6.0612e-39, 4.2246e-39, 1.0286e-38]])\n"
     ]
    }
   ],
   "source": [
    "import torch\n",
    "describe(torch.Tensor(2, 3))"
   ]
  },
  {
   "cell_type": "code",
   "execution_count": 11,
   "metadata": {},
   "outputs": [
    {
     "name": "stdout",
     "output_type": "stream",
     "text": [
      "Type: torch.FloatTensor\n",
      "Shape/size: torch.Size([2, 3])\n",
      "Values: \n",
      " tensor([[0.6591, 0.1082, 0.0849],\n",
      "        [0.7537, 0.0412, 0.3315]])\n",
      "Type: torch.FloatTensor\n",
      "Shape/size: torch.Size([2, 3])\n",
      "Values: \n",
      " tensor([[-1.2704,  0.8241,  0.4256],\n",
      "        [ 0.3054, -0.3068,  0.2641]])\n"
     ]
    }
   ],
   "source": [
    "import torch \n",
    "describe(torch.rand(2,3)) # create a tensor from uniform random distribution\n",
    "describe(torch.randn(2,3)) # create a tensor from random normal distribution"
   ]
  },
  {
   "cell_type": "markdown",
   "metadata": {},
   "source": [
    "We can also create tensors all filled with the same scalar. For creating tensor of zeros or ones, we have built-in functions, and for filling it with specific values, we can use the fill_() method. \n",
    "\n",
    "Any PyTorch method with an underscore refers to an in-place operation; that is, it modifies the content in place without creating a new object."
   ]
  },
  {
   "cell_type": "code",
   "execution_count": 19,
   "metadata": {},
   "outputs": [
    {
     "data": {
      "text/plain": [
       "tensor([[5., 5., 5.],\n",
       "        [5., 5., 5.]])"
      ]
     },
     "execution_count": 19,
     "metadata": {},
     "output_type": "execute_result"
    }
   ],
   "source": [
    "# Creating a filled tensor \n",
    "\n",
    "import torch \n",
    "# describe(torch.zeros(2,3))\n",
    "x = torch.ones(2,3)\n",
    "# describe(x)\n",
    "x.fill_(5)\n",
    "# describe(x)"
   ]
  },
  {
   "cell_type": "code",
   "execution_count": 17,
   "metadata": {},
   "outputs": [],
   "source": [
    "# Creating and initializing a tensor from lists\n",
    "\n",
    "x = torch.tensor([[1,2,3],\n",
    "                  [4,5,6]])"
   ]
  },
  {
   "cell_type": "code",
   "execution_count": 22,
   "metadata": {},
   "outputs": [
    {
     "name": "stdout",
     "output_type": "stream",
     "text": [
      "Type: torch.DoubleTensor\n",
      "Shape/size: torch.Size([2, 3])\n",
      "Values: \n",
      " tensor([[0.9334, 0.9989, 0.0594],\n",
      "        [0.4688, 0.8958, 0.8736]], dtype=torch.float64)\n"
     ]
    }
   ],
   "source": [
    "# We can also create from Numpy but pay attention that in that case the type will\n",
    "# be torch.DoubleTensor instead of the torch.FloatTensor\n",
    "\n",
    "import numpy as np\n",
    "npy = np.random.rand(2, 3)\n",
    "describe(torch.from_numpy(npy))"
   ]
  },
  {
   "cell_type": "markdown",
   "metadata": {},
   "source": [
    "You can convert a tensor to a different type(float, long, double, etc. ) \n",
    "by specifying it at initialization or later using one of the typecasting methods. \n",
    "There are two ways to specify the initialization type: either by directly calling \n",
    "the constructor of a specific tensor type, such as FloatTensor or LongTensor, or \n",
    "using a special method, torch.tensor()."
   ]
  },
  {
   "cell_type": "code",
   "execution_count": 26,
   "metadata": {},
   "outputs": [],
   "source": [
    "x = torch.FloatTensor([[1, 2, 3], [4, 5, 6]])\n",
    "x = x.long()\n",
    "x = torch.tensor([[1, 2, 3],[4, 5, 6]], dtype = torch.int64)\n",
    "x = x.float()"
   ]
  },
  {
   "cell_type": "markdown",
   "metadata": {},
   "source": [
    "We use the shape property and size() method of a tensor object to access the \n",
    "measurements of its dimensions. \n",
    "The two ways of accessing these measurements are mostly synonymous. \n",
    "Inspecting the shape of the tensor is an indispansable tool in debugging PyTorch code."
   ]
  },
  {
   "cell_type": "markdown",
   "metadata": {},
   "source": []
  }
 ],
 "metadata": {
  "interpreter": {
   "hash": "2c5955f3c69348582e3b0db013a3fba764896497ab638e5267f4b4368a25c854"
  },
  "kernelspec": {
   "display_name": "Python 3.8.10 ('NLPvenv': venv)",
   "language": "python",
   "name": "python3"
  },
  "language_info": {
   "codemirror_mode": {
    "name": "ipython",
    "version": 3
   },
   "file_extension": ".py",
   "mimetype": "text/x-python",
   "name": "python",
   "nbconvert_exporter": "python",
   "pygments_lexer": "ipython3",
   "version": "3.10.0"
  },
  "orig_nbformat": 4
 },
 "nbformat": 4,
 "nbformat_minor": 2
}
